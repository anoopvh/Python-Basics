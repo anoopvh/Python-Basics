{
 "cells": [
  {
   "cell_type": "code",
   "execution_count": null,
   "metadata": {},
   "outputs": [],
   "source": [
    "import numpy as np\n",
    "\n",
    "def fibo(n): \n",
    "    a=0\n",
    "    b=1\n",
    "    fib=np.array([a,b])\n",
    "    if(n<0): \n",
    "        print(\"Incorrect input\") \n",
    "    elif (n==0): \n",
    "        return a \n",
    "    elif (n==1): \n",
    "        return b \n",
    "    else: \n",
    "        for i in range(2,n): \n",
    "            c=a+b\n",
    "            #print(c)\n",
    "            a=b \n",
    "            b=c \n",
    "            fib=np.append(fib,c)\n",
    "        return fib \n",
    "\n",
    "while True:\n",
    "    n,m=map(int,input(\"Enter the N and M of the NxM matrix : \\n\").split())\n",
    "    if (not(n>=3 and (0<m<=7))):\n",
    "        continue\n",
    "    else:\n",
    "        matA=np.zeros((n,m))\n",
    "        \n",
    "        for i in range(m):\n",
    "            i+=1\n",
    "            matA[0,i-1:i]=i+(i-1)\n",
    "        for i in range(1,n):\n",
    "            matA[i:,:]=fibo(m)\n",
    "        print(matA)\n",
    "        break"
   ]
  }
 ],
 "metadata": {
  "kernelspec": {
   "display_name": "Python 3",
   "language": "python",
   "name": "python3"
  },
  "language_info": {
   "codemirror_mode": {
    "name": "ipython",
    "version": 3
   },
   "file_extension": ".py",
   "mimetype": "text/x-python",
   "name": "python",
   "nbconvert_exporter": "python",
   "pygments_lexer": "ipython3",
   "version": "3.7.4"
  }
 },
 "nbformat": 4,
 "nbformat_minor": 2
}
