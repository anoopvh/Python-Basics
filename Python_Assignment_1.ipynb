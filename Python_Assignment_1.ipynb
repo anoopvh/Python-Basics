{
 "cells": [
  {
   "cell_type": "markdown",
   "metadata": {},
   "source": [
    "# Assignment no :01"
   ]
  },
  {
   "cell_type": "markdown",
   "metadata": {},
   "source": [
    "### Question No: 01 Multiply 2 matrices"
   ]
  },
  {
   "cell_type": "code",
   "execution_count": 1,
   "metadata": {},
   "outputs": [
    {
     "name": "stdout",
     "output_type": "stream",
     "text": [
      "[[1 4 3]\n",
      " [3 5 6]\n",
      " [6 7 9]] \n",
      " shape of X :  (3, 3) \n",
      "\n",
      "[[ 1  2  5 12]\n",
      " [ 6  7  3  0]\n",
      " [ 4  7  9 11]] \n",
      " shape of Y :  (3, 4)\n",
      "[[ 37  51  44  45]\n",
      " [ 57  83  84 102]\n",
      " [ 84 124 132 171]] \n",
      " shape of Z :  (3, 4)\n"
     ]
    }
   ],
   "source": [
    "import numpy as np #importing numpy\n",
    "\n",
    "X = np.array([[1, 4, 3],[3, 5, 6],[6, 7, 9]]) #initializing X and Y\n",
    "Y = np.array([[1, 2, 5, 12],[6, 7, 3, 0],[4, 7, 9, 11]])\n",
    "\n",
    "#printing X and Y and their shape\n",
    "\n",
    "print(X,\"\\n shape of X : \", X.shape,\"\\n\")\n",
    "print(Y,\"\\n shape of Y : \",Y.shape)\n",
    "\n",
    "Z=np.dot(X,Y) #Matrix Multiplication \n",
    "print(Z,\"\\n shape of Z : \",Z.shape)\n"
   ]
  },
  {
   "cell_type": "markdown",
   "metadata": {},
   "source": [
    "### Question No: 02 -  Extract all numbers divisible by 3 from the array"
   ]
  },
  {
   "cell_type": "code",
   "execution_count": 2,
   "metadata": {},
   "outputs": [
    {
     "data": {
      "text/plain": [
       "array([ 3,  6,  9, 12])"
      ]
     },
     "execution_count": 2,
     "metadata": {},
     "output_type": "execute_result"
    }
   ],
   "source": [
    "arr = np.array([0, 1, 2, 3, 4, 5, 6, 7, 8, 9,10,11,12]) #input array\n",
    "#print(arr) #printing array\n",
    "arr[(arr >0) & (arr%3==0)] #Selecting the array elements which satisfies the two conditions \n",
    "#print(arr[(arr >0) & (arr%3==0)]) "
   ]
  },
  {
   "cell_type": "markdown",
   "metadata": {},
   "source": [
    "### Question No: 03 -  Get the unique common items between a and b"
   ]
  },
  {
   "cell_type": "code",
   "execution_count": 3,
   "metadata": {},
   "outputs": [
    {
     "data": {
      "text/plain": [
       "array([2, 4])"
      ]
     },
     "execution_count": 3,
     "metadata": {},
     "output_type": "execute_result"
    }
   ],
   "source": [
    "a = np.array([1,2,3,2,3,4,3,4,5,6])\n",
    "b = np.array([7,2,10,2,7,4,9,4,9,8]) #initialize the two arrays\n",
    "\n",
    "np.intersect1d(a,b) #finding the unique values of a and b"
   ]
  },
  {
   "cell_type": "markdown",
   "metadata": {},
   "source": [
    "### Question No: 04 -How to remove from one array those items that exist in another?\n",
    "\n",
    "From array a remove all items present in array b"
   ]
  },
  {
   "cell_type": "code",
   "execution_count": 131,
   "metadata": {},
   "outputs": [
    {
     "data": {
      "text/plain": [
       "array([ 1,  2,  3,  4, 22, 33, 44, 55])"
      ]
     },
     "execution_count": 131,
     "metadata": {},
     "output_type": "execute_result"
    }
   ],
   "source": [
    "a = np.array([1,2,3,4,5,11,22,33,44,55])\n",
    "b = np.array([5,6,7,8,9,10,11])\n",
    "#print(a,b)\n",
    "\n",
    "np.setdiff1d(a,b) \n",
    "\n",
    "#setdiff1d - Find the set difference of two arrays. \n",
    "#Return the sorted, unique values in ar1 that are not in ar2."
   ]
  },
  {
   "cell_type": "markdown",
   "metadata": {},
   "source": [
    "### Question No: 05. How to get the positions where elements of two arrays match?\n",
    "\n",
    "Get the positions where elements of a and b match"
   ]
  },
  {
   "cell_type": "code",
   "execution_count": 133,
   "metadata": {},
   "outputs": [
    {
     "name": "stdout",
     "output_type": "stream",
     "text": [
      "[1 2 3 2 3 4 3 4 5 6] [ 7  2 10  2  7  4  9  4  9  8]\n"
     ]
    },
    {
     "data": {
      "text/plain": [
       "(array([1, 3, 5, 7], dtype=int64),)"
      ]
     },
     "execution_count": 133,
     "metadata": {},
     "output_type": "execute_result"
    }
   ],
   "source": [
    "a = np.array([1,2,3,2,3,4,3,4,5,6])\n",
    "b = np.array([7,2,10,2,7,4,9,4,9,8])\n",
    "\n",
    "print(a,b)\n",
    "\n",
    "np.where(a == b)"
   ]
  },
  {
   "cell_type": "markdown",
   "metadata": {},
   "source": [
    "### Question No: 06. How to create a 2D array containing random floats between 10 and 25?\n",
    "\n",
    "Create a 2D array of shape 5x3 to contain random decimal numbers between 10 and 25."
   ]
  },
  {
   "cell_type": "code",
   "execution_count": 40,
   "metadata": {},
   "outputs": [
    {
     "name": "stdout",
     "output_type": "stream",
     "text": [
      "2D array of shape 5x3 to contain random float numbers between 10 and 25 \n",
      " [[12.91021426 22.86294865 16.2753545 ]\n",
      " [16.36089478 11.33475103 12.37852102]\n",
      " [14.68952335 24.79036169 22.66221498]\n",
      " [17.68313193 12.53374883 14.83362718]\n",
      " [15.64197221 22.46825876 19.30999189]] \n",
      "\n"
     ]
    }
   ],
   "source": [
    "#a=np.random.ranf((10,25))\n",
    "a=np.zeros(3*5) # creating a 1D array of 3*5 elemets 0\n",
    "\n",
    "for i in range(15):                  #Begin a for loop i in the range of 0-14\n",
    "    a[i]=np.random.uniform(10,25)    #generating a random number between 10 - 25\n",
    "    \n",
    "a=np.reshape(a,(5,3)) #reshaping the array to the required form and printing\n",
    "print(\"2D array of shape 5x3 to contain random float numbers between 10 and 25 \\n\",a,\"\\n\")\n"
   ]
  },
  {
   "cell_type": "markdown",
   "metadata": {},
   "source": [
    "### Question No: 07 - Take a string as input. Create a new string that is the reverse of the first string.\n"
   ]
  },
  {
   "cell_type": "code",
   "execution_count": 49,
   "metadata": {},
   "outputs": [
    {
     "name": "stdout",
     "output_type": "stream",
     "text": [
      "olleH\n"
     ]
    }
   ],
   "source": [
    "A =\"Hello\" # initializing the Identifier A as Hello\n",
    "\n",
    "A[::-1]"
   ]
  },
  {
   "cell_type": "markdown",
   "metadata": {},
   "source": [
    "### Question No: 08 A -  Write a Python program to remove the first occurrence of a specified element  from an array.\n"
   ]
  },
  {
   "cell_type": "code",
   "execution_count": 4,
   "metadata": {},
   "outputs": [
    {
     "data": {
      "text/plain": [
       "array([ 5,  6,  8,  7,  9, 10, 11,  7,  8,  9,  7, 11])"
      ]
     },
     "execution_count": 4,
     "metadata": {},
     "output_type": "execute_result"
    }
   ],
   "source": [
    "a = np.array([5,6,7,8,7,9,10,11,7,8,9,7,11])  #array Created\n",
    "i=np.where(a==7) #finding the index of 7 in the arrray\n",
    "i=i[0]                       #reassign i and choose 0 th element\n",
    "#print(i,i[0])\n",
    "np.delete(a,i[0])"
   ]
  },
  {
   "cell_type": "markdown",
   "metadata": {},
   "source": [
    "### Question No: 08 B -  Write a Python program to remove the all occurrence of a specified element  from an array."
   ]
  },
  {
   "cell_type": "code",
   "execution_count": 5,
   "metadata": {},
   "outputs": [
    {
     "name": "stdout",
     "output_type": "stream",
     "text": [
      "[ 5  6  8  9 10 11  8  9 11]\n"
     ]
    }
   ],
   "source": [
    "a = np.array([5,6,7,8,7,9,10,11,7,8,9,7,11]) #initializeed the array a\n",
    "print(a[(a!=7)])                #printing the elements which statisfies the given condition "
   ]
  },
  {
   "cell_type": "markdown",
   "metadata": {},
   "source": [
    "### Question No: 09. Write a Python program that iterate over elements repeating each as many times as its count."
   ]
  },
  {
   "cell_type": "code",
   "execution_count": 133,
   "metadata": {},
   "outputs": [
    {
     "name": "stdout",
     "output_type": "stream",
     "text": [
      "22\n",
      "4444\n",
      "55555\n",
      "88888888\n"
     ]
    }
   ],
   "source": [
    "a=np.array([2,4,5,8]) #initializeed the array a\n",
    "\n",
    "for i in a:         # Accessing individual elements from array a\n",
    "    j=str(i)*i         #creating a copy of int values to str in the array j\n",
    "    print(j)"
   ]
  },
  {
   "cell_type": "markdown",
   "metadata": {},
   "source": [
    "### Question No: 10 A - Write a Python program to find the occurrences of 10 most common words in a given text."
   ]
  },
  {
   "cell_type": "code",
   "execution_count": 2,
   "metadata": {},
   "outputs": [
    {
     "name": "stdout",
     "output_type": "stream",
     "text": [
      "[('you', 15), ('the', 13), ('a', 9), ('and', 9), ('to', 8), ('your', 7), ('click', 5), ('document', 5), ('new', 5), ('When', 4)]\n"
     ]
    }
   ],
   "source": [
    "from collections import Counter\n",
    "import re\n",
    "text = \"\"\"Video provides a powerful way to help you prove your point. When you click Online Video, you can paste in the embed code for the video you want to add. You can also type a keyword to search online for the video that best fits your document.\n",
    "To make your document look professionally produced, Word provides header, footer, cover page, and text box designs that complement each other. For example, you can add a matching cover page, header, and sidebar. Click Insert and then choose the elements you want from the different galleries.\n",
    "Themes and styles also help keep your document coordinated. When you click Design and choose a new Theme, the pictures, charts, and SmartArt graphics change to match your new theme. When you apply styles, your headings change to match the new theme.\n",
    "Save time in Word with new buttons that show up where you need them. To change the way a picture fits in your document, click it and a button for layout options appears next to it. When you work on a table, click where you want to add a row or a column, and then click the plus sign.\n",
    "Reading is easier, too, in the new Reading view. You can collapse parts of the document and focus on the text you want. If you need to stop reading before you reach the end, Word remembers where you left off - even on another device.\n",
    "\"\"\"\n",
    "words = re.findall('\\w+',text)\n",
    "print(Counter(words).most_common(10))"
   ]
  },
  {
   "cell_type": "markdown",
   "metadata": {},
   "source": [
    "### Question No: 10 B - Write a Python program to find the occurrences of 10 most common words which are at least 4 characters long in a given text."
   ]
  },
  {
   "cell_type": "code",
   "execution_count": 34,
   "metadata": {
    "scrolled": true
   },
   "outputs": [
    {
     "name": "stdout",
     "output_type": "stream",
     "text": [
      "[('your', 7), ('click', 5), ('document', 5), ('When', 4), ('want', 4), ('that', 3), ('Word', 3), ('change', 3), ('where', 3), ('Video', 2)]\n"
     ]
    }
   ],
   "source": [
    "import numpy as np #importing numpy\n",
    "#print(words,type(words))\n",
    "wd=['']\n",
    "for i in words:\n",
    "    if(len(i)>=4):\n",
    "        wd.append(i)\n",
    "print(Counter(wd).most_common(10))\n",
    "#print(words[np.size(words)>=4])\n",
    "#print(Counter(words[np.size(words)>=4]).most_common(10))"
   ]
  },
  {
   "cell_type": "markdown",
   "metadata": {},
   "source": [
    "### Question No: 11 - Create a python program to generate the Fibonocci series."
   ]
  },
  {
   "cell_type": "code",
   "execution_count": 26,
   "metadata": {},
   "outputs": [
    {
     "name": "stdout",
     "output_type": "stream",
     "text": [
      "Enter the number of elements to be printed :5\n",
      "[0 1 1 2 3]\n"
     ]
    }
   ],
   "source": [
    "import numpy as np\n",
    "\n",
    "def fibo(n): \n",
    "    a=0\n",
    "    b=1\n",
    "    fib=np.array([a,b])\n",
    "    if(n<0): \n",
    "        print(\"Incorrect input\") \n",
    "    elif (n==0): \n",
    "        return a \n",
    "    elif (n==1): \n",
    "        return b \n",
    "    else: \n",
    "        for i in range(2,n): \n",
    "            c=a+b\n",
    "            #print(c)\n",
    "            a=b \n",
    "            b=c \n",
    "            fib=np.append(fib,c)\n",
    "        return fib \n",
    "\n",
    "n=int(input(\"Enter the number of elements to be printed :\"))\n",
    "print(fibo(n)) "
   ]
  },
  {
   "cell_type": "code",
   "execution_count": null,
   "metadata": {},
   "outputs": [],
   "source": []
  }
 ],
 "metadata": {
  "kernelspec": {
   "display_name": "Python 3",
   "language": "python",
   "name": "python3"
  },
  "language_info": {
   "codemirror_mode": {
    "name": "ipython",
    "version": 3
   },
   "file_extension": ".py",
   "mimetype": "text/x-python",
   "name": "python",
   "nbconvert_exporter": "python",
   "pygments_lexer": "ipython3",
   "version": "3.7.4"
  }
 },
 "nbformat": 4,
 "nbformat_minor": 2
}
