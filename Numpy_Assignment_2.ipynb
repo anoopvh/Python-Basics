{
 "cells": [
  {
   "cell_type": "markdown",
   "metadata": {},
   "source": [
    "# Numpy Assignment 2:\n"
   ]
  },
  {
   "cell_type": "code",
   "execution_count": 1,
   "metadata": {},
   "outputs": [],
   "source": [
    "import numpy as np\n",
    "import scipy.linalg as la\n",
    "import matplotlib.pyplot as plt"
   ]
  },
  {
   "cell_type": "markdown",
   "metadata": {},
   "source": [
    "## 1. Choose a value and set the variable x to that value"
   ]
  },
  {
   "cell_type": "code",
   "execution_count": 5,
   "metadata": {},
   "outputs": [],
   "source": [
    "x=4"
   ]
  },
  {
   "cell_type": "markdown",
   "metadata": {},
   "source": [
    "## 2. What is command to compute the square of x? Its cube?"
   ]
  },
  {
   "cell_type": "code",
   "execution_count": 6,
   "metadata": {},
   "outputs": [
    {
     "name": "stdout",
     "output_type": "stream",
     "text": [
      "Square of  4 is : 16\n",
      "Cube of  4 is : 64\n"
     ]
    }
   ],
   "source": [
    "x_square=x**2\n",
    "x_cube=x**3\n",
    "\n",
    "print(\"Square of \",x,\"is :\",x_square)\n",
    "\n",
    "print(\"Cube of \",x,\"is :\",x_cube)"
   ]
  },
  {
   "cell_type": "markdown",
   "metadata": {},
   "source": [
    "### 3. Choose an angle θ and set the variable theta to its value (a number)."
   ]
  },
  {
   "cell_type": "code",
   "execution_count": 11,
   "metadata": {},
   "outputs": [],
   "source": [
    "theta=90"
   ]
  },
  {
   "cell_type": "markdown",
   "metadata": {},
   "source": [
    "### 4. What is sinθ? cosθ? Angles can be measured in degrees or radians. Which of these are being used ?\n"
   ]
  },
  {
   "cell_type": "code",
   "execution_count": 14,
   "metadata": {},
   "outputs": [
    {
     "name": "stdout",
     "output_type": "stream",
     "text": [
      "sine of  90  radians is : 0.8939966636005579\n",
      "Cos of  90  radians is : -0.4480736161291701\n"
     ]
    }
   ],
   "source": [
    "print(\"sine of \",theta,\" radians is :\",np.sin(theta))\n",
    "\n",
    "print(\"Cos of \",theta,\" radians is :\",np.cos(theta))"
   ]
  },
  {
   "cell_type": "markdown",
   "metadata": {},
   "source": [
    "### 5. Use the np.linspace function to create a row vector called meshPoints containing exactly 500 values with values evenly spaced between -1 and 1."
   ]
  },
  {
   "cell_type": "code",
   "execution_count": 19,
   "metadata": {},
   "outputs": [
    {
     "data": {
      "text/plain": [
       "array([-1.        , -0.99599198, -0.99198397, -0.98797595, -0.98396794,\n",
       "       -0.97995992, -0.9759519 , -0.97194389, -0.96793587, -0.96392786,\n",
       "       -0.95991984, -0.95591182, -0.95190381, -0.94789579, -0.94388778,\n",
       "       -0.93987976, -0.93587174, -0.93186373, -0.92785571, -0.9238477 ,\n",
       "       -0.91983968, -0.91583166, -0.91182365, -0.90781563, -0.90380762,\n",
       "       -0.8997996 , -0.89579158, -0.89178357, -0.88777555, -0.88376754,\n",
       "       -0.87975952, -0.8757515 , -0.87174349, -0.86773547, -0.86372745,\n",
       "       -0.85971944, -0.85571142, -0.85170341, -0.84769539, -0.84368737,\n",
       "       -0.83967936, -0.83567134, -0.83166333, -0.82765531, -0.82364729,\n",
       "       -0.81963928, -0.81563126, -0.81162325, -0.80761523, -0.80360721,\n",
       "       -0.7995992 , -0.79559118, -0.79158317, -0.78757515, -0.78356713,\n",
       "       -0.77955912, -0.7755511 , -0.77154309, -0.76753507, -0.76352705,\n",
       "       -0.75951904, -0.75551102, -0.75150301, -0.74749499, -0.74348697,\n",
       "       -0.73947896, -0.73547094, -0.73146293, -0.72745491, -0.72344689,\n",
       "       -0.71943888, -0.71543086, -0.71142285, -0.70741483, -0.70340681,\n",
       "       -0.6993988 , -0.69539078, -0.69138277, -0.68737475, -0.68336673,\n",
       "       -0.67935872, -0.6753507 , -0.67134269, -0.66733467, -0.66332665,\n",
       "       -0.65931864, -0.65531062, -0.65130261, -0.64729459, -0.64328657,\n",
       "       -0.63927856, -0.63527054, -0.63126253, -0.62725451, -0.62324649,\n",
       "       -0.61923848, -0.61523046, -0.61122244, -0.60721443, -0.60320641,\n",
       "       -0.5991984 , -0.59519038, -0.59118236, -0.58717435, -0.58316633,\n",
       "       -0.57915832, -0.5751503 , -0.57114228, -0.56713427, -0.56312625,\n",
       "       -0.55911824, -0.55511022, -0.5511022 , -0.54709419, -0.54308617,\n",
       "       -0.53907816, -0.53507014, -0.53106212, -0.52705411, -0.52304609,\n",
       "       -0.51903808, -0.51503006, -0.51102204, -0.50701403, -0.50300601,\n",
       "       -0.498998  , -0.49498998, -0.49098196, -0.48697395, -0.48296593,\n",
       "       -0.47895792, -0.4749499 , -0.47094188, -0.46693387, -0.46292585,\n",
       "       -0.45891784, -0.45490982, -0.4509018 , -0.44689379, -0.44288577,\n",
       "       -0.43887776, -0.43486974, -0.43086172, -0.42685371, -0.42284569,\n",
       "       -0.41883768, -0.41482966, -0.41082164, -0.40681363, -0.40280561,\n",
       "       -0.3987976 , -0.39478958, -0.39078156, -0.38677355, -0.38276553,\n",
       "       -0.37875752, -0.3747495 , -0.37074148, -0.36673347, -0.36272545,\n",
       "       -0.35871743, -0.35470942, -0.3507014 , -0.34669339, -0.34268537,\n",
       "       -0.33867735, -0.33466934, -0.33066132, -0.32665331, -0.32264529,\n",
       "       -0.31863727, -0.31462926, -0.31062124, -0.30661323, -0.30260521,\n",
       "       -0.29859719, -0.29458918, -0.29058116, -0.28657315, -0.28256513,\n",
       "       -0.27855711, -0.2745491 , -0.27054108, -0.26653307, -0.26252505,\n",
       "       -0.25851703, -0.25450902, -0.250501  , -0.24649299, -0.24248497,\n",
       "       -0.23847695, -0.23446894, -0.23046092, -0.22645291, -0.22244489,\n",
       "       -0.21843687, -0.21442886, -0.21042084, -0.20641283, -0.20240481,\n",
       "       -0.19839679, -0.19438878, -0.19038076, -0.18637275, -0.18236473,\n",
       "       -0.17835671, -0.1743487 , -0.17034068, -0.16633267, -0.16232465,\n",
       "       -0.15831663, -0.15430862, -0.1503006 , -0.14629259, -0.14228457,\n",
       "       -0.13827655, -0.13426854, -0.13026052, -0.12625251, -0.12224449,\n",
       "       -0.11823647, -0.11422846, -0.11022044, -0.10621242, -0.10220441,\n",
       "       -0.09819639, -0.09418838, -0.09018036, -0.08617234, -0.08216433,\n",
       "       -0.07815631, -0.0741483 , -0.07014028, -0.06613226, -0.06212425,\n",
       "       -0.05811623, -0.05410822, -0.0501002 , -0.04609218, -0.04208417,\n",
       "       -0.03807615, -0.03406814, -0.03006012, -0.0260521 , -0.02204409,\n",
       "       -0.01803607, -0.01402806, -0.01002004, -0.00601202, -0.00200401,\n",
       "        0.00200401,  0.00601202,  0.01002004,  0.01402806,  0.01803607,\n",
       "        0.02204409,  0.0260521 ,  0.03006012,  0.03406814,  0.03807615,\n",
       "        0.04208417,  0.04609218,  0.0501002 ,  0.05410822,  0.05811623,\n",
       "        0.06212425,  0.06613226,  0.07014028,  0.0741483 ,  0.07815631,\n",
       "        0.08216433,  0.08617234,  0.09018036,  0.09418838,  0.09819639,\n",
       "        0.10220441,  0.10621242,  0.11022044,  0.11422846,  0.11823647,\n",
       "        0.12224449,  0.12625251,  0.13026052,  0.13426854,  0.13827655,\n",
       "        0.14228457,  0.14629259,  0.1503006 ,  0.15430862,  0.15831663,\n",
       "        0.16232465,  0.16633267,  0.17034068,  0.1743487 ,  0.17835671,\n",
       "        0.18236473,  0.18637275,  0.19038076,  0.19438878,  0.19839679,\n",
       "        0.20240481,  0.20641283,  0.21042084,  0.21442886,  0.21843687,\n",
       "        0.22244489,  0.22645291,  0.23046092,  0.23446894,  0.23847695,\n",
       "        0.24248497,  0.24649299,  0.250501  ,  0.25450902,  0.25851703,\n",
       "        0.26252505,  0.26653307,  0.27054108,  0.2745491 ,  0.27855711,\n",
       "        0.28256513,  0.28657315,  0.29058116,  0.29458918,  0.29859719,\n",
       "        0.30260521,  0.30661323,  0.31062124,  0.31462926,  0.31863727,\n",
       "        0.32264529,  0.32665331,  0.33066132,  0.33466934,  0.33867735,\n",
       "        0.34268537,  0.34669339,  0.3507014 ,  0.35470942,  0.35871743,\n",
       "        0.36272545,  0.36673347,  0.37074148,  0.3747495 ,  0.37875752,\n",
       "        0.38276553,  0.38677355,  0.39078156,  0.39478958,  0.3987976 ,\n",
       "        0.40280561,  0.40681363,  0.41082164,  0.41482966,  0.41883768,\n",
       "        0.42284569,  0.42685371,  0.43086172,  0.43486974,  0.43887776,\n",
       "        0.44288577,  0.44689379,  0.4509018 ,  0.45490982,  0.45891784,\n",
       "        0.46292585,  0.46693387,  0.47094188,  0.4749499 ,  0.47895792,\n",
       "        0.48296593,  0.48697395,  0.49098196,  0.49498998,  0.498998  ,\n",
       "        0.50300601,  0.50701403,  0.51102204,  0.51503006,  0.51903808,\n",
       "        0.52304609,  0.52705411,  0.53106212,  0.53507014,  0.53907816,\n",
       "        0.54308617,  0.54709419,  0.5511022 ,  0.55511022,  0.55911824,\n",
       "        0.56312625,  0.56713427,  0.57114228,  0.5751503 ,  0.57915832,\n",
       "        0.58316633,  0.58717435,  0.59118236,  0.59519038,  0.5991984 ,\n",
       "        0.60320641,  0.60721443,  0.61122244,  0.61523046,  0.61923848,\n",
       "        0.62324649,  0.62725451,  0.63126253,  0.63527054,  0.63927856,\n",
       "        0.64328657,  0.64729459,  0.65130261,  0.65531062,  0.65931864,\n",
       "        0.66332665,  0.66733467,  0.67134269,  0.6753507 ,  0.67935872,\n",
       "        0.68336673,  0.68737475,  0.69138277,  0.69539078,  0.6993988 ,\n",
       "        0.70340681,  0.70741483,  0.71142285,  0.71543086,  0.71943888,\n",
       "        0.72344689,  0.72745491,  0.73146293,  0.73547094,  0.73947896,\n",
       "        0.74348697,  0.74749499,  0.75150301,  0.75551102,  0.75951904,\n",
       "        0.76352705,  0.76753507,  0.77154309,  0.7755511 ,  0.77955912,\n",
       "        0.78356713,  0.78757515,  0.79158317,  0.79559118,  0.7995992 ,\n",
       "        0.80360721,  0.80761523,  0.81162325,  0.81563126,  0.81963928,\n",
       "        0.82364729,  0.82765531,  0.83166333,  0.83567134,  0.83967936,\n",
       "        0.84368737,  0.84769539,  0.85170341,  0.85571142,  0.85971944,\n",
       "        0.86372745,  0.86773547,  0.87174349,  0.8757515 ,  0.87975952,\n",
       "        0.88376754,  0.88777555,  0.89178357,  0.89579158,  0.8997996 ,\n",
       "        0.90380762,  0.90781563,  0.91182365,  0.91583166,  0.91983968,\n",
       "        0.9238477 ,  0.92785571,  0.93186373,  0.93587174,  0.93987976,\n",
       "        0.94388778,  0.94789579,  0.95190381,  0.95591182,  0.95991984,\n",
       "        0.96392786,  0.96793587,  0.97194389,  0.9759519 ,  0.97995992,\n",
       "        0.98396794,  0.98797595,  0.99198397,  0.99599198,  1.        ])"
      ]
     },
     "execution_count": 19,
     "metadata": {},
     "output_type": "execute_result"
    }
   ],
   "source": [
    "meshPoints=np.linspace(-1,1,500)\n",
    "meshPoints"
   ]
  },
  {
   "cell_type": "markdown",
   "metadata": {},
   "source": [
    "### 6. What expression will yield the value of the 53th element of meshPoints? \n",
    "\n",
    "### What is this value?\n"
   ]
  },
  {
   "cell_type": "code",
   "execution_count": 21,
   "metadata": {},
   "outputs": [
    {
     "data": {
      "text/plain": [
       "-0.7915831663326653"
      ]
     },
     "execution_count": 21,
     "metadata": {},
     "output_type": "execute_result"
    }
   ],
   "source": [
    "meshPoints[52] #52 th index will give you the value of 53rd element in the meshpoints"
   ]
  },
  {
   "cell_type": "markdown",
   "metadata": {},
   "source": [
    "### 7. Produce a plot of a sinusoid on the interval [−1,1] using the command\n",
    "#### plt.plot(meshPoints,np.sin(2*pi*meshPoints))\n",
    "### Please save this plot as a jpeg (.jpg) file and send it along with your work.\n"
   ]
  },
  {
   "cell_type": "code",
   "execution_count": 31,
   "metadata": {
    "scrolled": true
   },
   "outputs": [
    {
     "data": {
      "image/png": "[encoded data removed]",
      "text/plain": [
       "<Figure size 432x288 with 1 Axes>"
      ]
     },
     "metadata": {
      "needs_background": "light"
     },
     "output_type": "display_data"
    }
   ],
   "source": [
    "plt.plot(meshPoints,np.sin(2*np.pi*meshPoints))\n",
    "\n",
    "plt.savefig('sinusoid.jpeg', dpi=200) #saving the plot in the same directory with file \n",
    "# name as \"sinusoid.jpeg\""
   ]
  },
  {
   "cell_type": "markdown",
   "metadata": {},
   "source": [
    "# Vector and matrix operations: Exercise (5 points)\n"
   ]
  },
  {
   "cell_type": "code",
   "execution_count": 52,
   "metadata": {},
   "outputs": [],
   "source": [
    "# Define the following vectors and matrices:\n",
    "\n",
    "vec1 = np.array([ -1., 4., -9.])\n",
    "mat1 = np.array([[ 1., 3., 5.], [7., -9., 2.], [4., 6., 8. ]])"
   ]
  },
  {
   "cell_type": "markdown",
   "metadata": {},
   "source": [
    "## 1. You can multiply vectors by constants. Compute"
   ]
  },
  {
   "cell_type": "code",
   "execution_count": 53,
   "metadata": {},
   "outputs": [
    {
     "name": "stdout",
     "output_type": "stream",
     "text": [
      "[-0.78539816  3.14159265 -7.06858347]\n"
     ]
    }
   ],
   "source": [
    "vec2 = (np.pi/4) * vec1\n",
    "\n",
    "print(vec2)"
   ]
  },
  {
   "cell_type": "markdown",
   "metadata": {},
   "source": [
    "## 2. The cosine function can be applied to a vector to yield a vector of cosines. \n",
    " ### Compute"
   ]
  },
  {
   "cell_type": "code",
   "execution_count": 54,
   "metadata": {},
   "outputs": [
    {
     "name": "stdout",
     "output_type": "stream",
     "text": [
      "[ 0.70710678 -1.          0.70710678]\n"
     ]
    }
   ],
   "source": [
    "vec2 = np.cos(vec2)\n",
    "print(vec2)"
   ]
  },
  {
   "cell_type": "markdown",
   "metadata": {},
   "source": [
    "## 3. You can add vectors and multiply by scalars. Compute\n",
    "### vec3 = vec1 + 2 * vec2"
   ]
  },
  {
   "cell_type": "code",
   "execution_count": 55,
   "metadata": {},
   "outputs": [
    {
     "name": "stdout",
     "output_type": "stream",
     "text": [
      "[ 0.41421356  2.         -7.58578644]\n"
     ]
    }
   ],
   "source": [
    "vec3 = vec1 + 2 * vec2\n",
    "\n",
    "print(vec3)"
   ]
  },
  {
   "cell_type": "markdown",
   "metadata": {},
   "source": [
    "## 4. The Euclidean norm of a matrix or a vector is available using\n",
    "## la.norm.\n",
    "#### Compute la.norm(vec3)\n"
   ]
  },
  {
   "cell_type": "code",
   "execution_count": 56,
   "metadata": {},
   "outputs": [
    {
     "data": {
      "text/plain": [
       "7.855935892848037"
      ]
     },
     "execution_count": 56,
     "metadata": {},
     "output_type": "execute_result"
    }
   ],
   "source": [
    "la.norm(vec3)"
   ]
  },
  {
   "cell_type": "markdown",
   "metadata": {},
   "source": [
    "###  5. You can do row-column matrix multiplication. Compute the product of\n",
    "## mat1 and vec3 and set vec4 equal to the result."
   ]
  },
  {
   "cell_type": "code",
   "execution_count": 57,
   "metadata": {},
   "outputs": [
    {
     "name": "stdout",
     "output_type": "stream",
     "text": [
      "[-31.51471863 -30.27207794 -47.02943725]\n"
     ]
    }
   ],
   "source": [
    "vec4=np.matmul(mat1,vec3)\n",
    "\n",
    "print(vec4)"
   ]
  },
  {
   "cell_type": "markdown",
   "metadata": {},
   "source": [
    "### 6. Compute the transpose of mat1."
   ]
  },
  {
   "cell_type": "code",
   "execution_count": 58,
   "metadata": {},
   "outputs": [
    {
     "data": {
      "text/plain": [
       "array([[ 1.,  7.,  4.],\n",
       "       [ 3., -9.,  6.],\n",
       "       [ 5.,  2.,  8.]])"
      ]
     },
     "execution_count": 58,
     "metadata": {},
     "output_type": "execute_result"
    }
   ],
   "source": [
    "np.transpose(mat1)"
   ]
  },
  {
   "cell_type": "markdown",
   "metadata": {},
   "source": [
    "## 7. Compute the determinant of mat1.\n"
   ]
  },
  {
   "cell_type": "code",
   "execution_count": 59,
   "metadata": {},
   "outputs": [
    {
     "data": {
      "text/plain": [
       "161.99999999999997"
      ]
     },
     "execution_count": 59,
     "metadata": {},
     "output_type": "execute_result"
    }
   ],
   "source": [
    "la.det(mat1)"
   ]
  },
  {
   "cell_type": "markdown",
   "metadata": {},
   "source": [
    "### 8. Compute the trace of mat1."
   ]
  },
  {
   "cell_type": "code",
   "execution_count": 60,
   "metadata": {},
   "outputs": [
    {
     "data": {
      "text/plain": [
       "0.0"
      ]
     },
     "execution_count": 60,
     "metadata": {},
     "output_type": "execute_result"
    }
   ],
   "source": [
    "np.trace(mat1)"
   ]
  },
  {
   "cell_type": "markdown",
   "metadata": {},
   "source": [
    "### 9. Find the smallest element in vec1.\n"
   ]
  },
  {
   "cell_type": "code",
   "execution_count": 61,
   "metadata": {},
   "outputs": [
    {
     "data": {
      "text/plain": [
       "-9.0"
      ]
     },
     "execution_count": 61,
     "metadata": {},
     "output_type": "execute_result"
    }
   ],
   "source": [
    "np.min(mat1)"
   ]
  },
  {
   "cell_type": "markdown",
   "metadata": {},
   "source": [
    "### 10. What function would you use to find the value of j so that vec1[j] is equal to\n",
    "### the smallest element in vec1?"
   ]
  },
  {
   "cell_type": "code",
   "execution_count": 74,
   "metadata": {},
   "outputs": [
    {
     "name": "stdout",
     "output_type": "stream",
     "text": [
      "(array([2], dtype=int64),)\n"
     ]
    }
   ],
   "source": [
    "min_value=vec1.min()\n",
    "\n",
    "j=np.where(vec1==min_value)\n",
    "\n",
    "print(j)"
   ]
  },
  {
   "cell_type": "markdown",
   "metadata": {},
   "source": [
    "#### 11. What expression would you use to find the smallest element of the matrix mat1?\n"
   ]
  },
  {
   "cell_type": "code",
   "execution_count": 75,
   "metadata": {},
   "outputs": [
    {
     "data": {
      "text/plain": [
       "-9.0"
      ]
     },
     "execution_count": 75,
     "metadata": {},
     "output_type": "execute_result"
    }
   ],
   "source": [
    "np.min(mat1)"
   ]
  },
  {
   "cell_type": "markdown",
   "metadata": {},
   "source": [
    "## 12. The function np.random.rand can be used to construct and fill vectors and matrices with random numbers. \n",
    "\n",
    "## Use the help facility in Python to learn how to construct a 10 × 10 matrix named M filled with random numbers.\n"
   ]
  },
  {
   "cell_type": "code",
   "execution_count": 76,
   "metadata": {},
   "outputs": [
    {
     "name": "stdout",
     "output_type": "stream",
     "text": [
      "Help on built-in function rand:\n",
      "\n",
      "rand(...) method of mtrand.RandomState instance\n",
      "    rand(d0, d1, ..., dn)\n",
      "    \n",
      "    Random values in a given shape.\n",
      "    \n",
      "    Create an array of the given shape and populate it with\n",
      "    random samples from a uniform distribution\n",
      "    over ``[0, 1)``.\n",
      "    \n",
      "    Parameters\n",
      "    ----------\n",
      "    d0, d1, ..., dn : int, optional\n",
      "        The dimensions of the returned array, should all be positive.\n",
      "        If no argument is given a single Python float is returned.\n",
      "    \n",
      "    Returns\n",
      "    -------\n",
      "    out : ndarray, shape ``(d0, d1, ..., dn)``\n",
      "        Random values.\n",
      "    \n",
      "    See Also\n",
      "    --------\n",
      "    random\n",
      "    \n",
      "    Notes\n",
      "    -----\n",
      "    This is a convenience function. If you want an interface that\n",
      "    takes a shape-tuple as the first argument, refer to\n",
      "    np.random.random_sample .\n",
      "    \n",
      "    Examples\n",
      "    --------\n",
      "    >>> np.random.rand(3,2)\n",
      "    array([[ 0.14022471,  0.96360618],  #random\n",
      "           [ 0.37601032,  0.25528411],  #random\n",
      "           [ 0.49313049,  0.94909878]]) #random\n",
      "\n"
     ]
    }
   ],
   "source": [
    "help(np.random.rand)"
   ]
  },
  {
   "cell_type": "code",
   "execution_count": 82,
   "metadata": {},
   "outputs": [
    {
     "name": "stdout",
     "output_type": "stream",
     "text": [
      "[[0.78680773 0.69645878 0.48263509 0.79508314 0.83768708 0.06696923\n",
      "  0.75030755 0.605468   0.65996193 0.84820505]\n",
      " [0.15405758 0.86736701 0.84076639 0.37791908 0.2062844  0.53207892\n",
      "  0.76987247 0.25619449 0.730197   0.26517   ]\n",
      " [0.84912688 0.41032273 0.16697653 0.92259272 0.56151417 0.79949061\n",
      "  0.14989663 0.6367992  0.89288369 0.71543539]\n",
      " [0.5780707  0.44644334 0.13545422 0.44310429 0.10218904 0.94615389\n",
      "  0.69363763 0.79435839 0.98087189 0.38057174]\n",
      " [0.85475126 0.57254845 0.86029242 0.13994624 0.65181296 0.77700036\n",
      "  0.84622779 0.32470757 0.36706955 0.81901369]\n",
      " [0.54107491 0.85956695 0.47499839 0.76218498 0.10908937 0.13428376\n",
      "  0.06092579 0.69157592 0.70911496 0.94358546]\n",
      " [0.98272201 0.5190704  0.92772769 0.88086875 0.33999627 0.53830959\n",
      "  0.75211226 0.8937316  0.02057503 0.41638415]\n",
      " [0.52539841 0.41292211 0.72092235 0.71011436 0.26787113 0.3144432\n",
      "  0.50723844 0.45116552 0.0873685  0.31084579]\n",
      " [0.76156862 0.6813161  0.05760332 0.36362368 0.75029613 0.31317262\n",
      "  0.29860565 0.73342779 0.04887001 0.80919722]\n",
      " [0.95534739 0.06519287 0.07875574 0.15588287 0.96816411 0.92771589\n",
      "  0.25313489 0.2696088  0.68976319 0.97400341]]\n"
     ]
    }
   ],
   "source": [
    "M=np.random.rand(10,10)\n",
    "\n",
    "print(M)"
   ]
  },
  {
   "cell_type": "markdown",
   "metadata": {},
   "source": [
    "## 13. The colon and index notation can also be used to refer to a subset of elements of the array. With the start:increment:finish notation, we can refer to a range of indices.\n"
   ]
  },
  {
   "cell_type": "code",
   "execution_count": null,
   "metadata": {},
   "outputs": [],
   "source": [
    "## "
   ]
  },
  {
   "cell_type": "markdown",
   "metadata": {},
   "source": [
    "## 14. What commands would be needed to generate the four 5×5 sub-matrices of M in the upper left quarter MUL, the upper right quarter MUR, the lower left quarter MLL, and the lower right quarter MLR."
   ]
  },
  {
   "cell_type": "code",
   "execution_count": 86,
   "metadata": {},
   "outputs": [],
   "source": [
    "MUL=M[:5,:5]  # selecting the upper half left\n",
    "MUR=M[:5,5:10]  #selecting the upper right\n",
    "MLL=M[5:10,:5]\n",
    "MLR=M[5:10,5:10]"
   ]
  },
  {
   "cell_type": "code",
   "execution_count": null,
   "metadata": {},
   "outputs": [],
   "source": []
  }
 ],
 "metadata": {
  "kernelspec": {
   "display_name": "Python 3",
   "language": "python",
   "name": "python3"
  },
  "language_info": {
   "codemirror_mode": {
    "name": "ipython",
    "version": 3
   },
   "file_extension": ".py",
   "mimetype": "text/x-python",
   "name": "python",
   "nbconvert_exporter": "python",
   "pygments_lexer": "ipython3",
   "version": "3.7.4"
  }
 },
 "nbformat": 4,
 "nbformat_minor": 2
}
