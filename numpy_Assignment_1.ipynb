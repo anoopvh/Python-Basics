{
 "cells": [
  {
   "cell_type": "markdown",
   "metadata": {},
   "source": [
    "# Assignment 2\n",
    "\n",
    "## Question 1 :-Write a python program to take a 3X3 matrix as a user input. Convert the matrix into numpy array. Print the matrix, rank, shape of the matrix. ?"
   ]
  },
  {
   "cell_type": "code",
   "execution_count": 65,
   "metadata": {},
   "outputs": [
    {
     "name": "stdout",
     "output_type": "stream",
     "text": [
      "Enter the no of Raws : \n",
      "3\n",
      "Enter the no of Column : \n",
      "3\n",
      "1\n",
      "2\n",
      "3\n",
      "4\n",
      "5\n",
      "6\n",
      "7\n",
      "8\n",
      "9\n",
      "[[1 2 3]\n",
      " [4 5 6]\n",
      " [7 8 9]]\n",
      "2\n",
      "(3, 3)\n"
     ]
    }
   ],
   "source": [
    "import numpy as np\n",
    "raw = int(input(\"Enter the no of Raws : \\n\"))\n",
    "column = int(input(\"Enter the no of Column : \\n\"))\n",
    "mat=[]\n",
    "for i in range(raw*column):\n",
    "    a=int(input())\n",
    "    mat.append(a)\n",
    "mat=np.array(mat).reshape(raw,column)\n",
    "print(mat)\n",
    "print(np.ndim(mat))\n",
    "print(np.shape(mat))"
   ]
  },
  {
   "cell_type": "markdown",
   "metadata": {},
   "source": [
    "## Question 2 :- Write a function that generates 10 integers and use it to build an array "
   ]
  },
  {
   "cell_type": "code",
   "execution_count": 51,
   "metadata": {},
   "outputs": [
    {
     "name": "stdout",
     "output_type": "stream",
     "text": [
      "[37 29 18 52 13  2 41 21 32 47] \n",
      " (10,)\n"
     ]
    }
   ],
   "source": [
    "import numpy as np\n",
    "array=np.random.randint(np.random.randint(1000), size=10)\n",
    "print(array,\"\\n\",array.shape)"
   ]
  },
  {
   "cell_type": "markdown",
   "metadata": {},
   "source": [
    "## Question 3 :- Create a random vector (1D array) of size 10 and sort it "
   ]
  },
  {
   "cell_type": "code",
   "execution_count": 64,
   "metadata": {},
   "outputs": [
    {
     "name": "stdout",
     "output_type": "stream",
     "text": [
      "[9, 30, 128, 151, 208, 219, 223, 257, 280, 314]\n"
     ]
    }
   ],
   "source": [
    "import numpy as np\n",
    "array=np.random.randint(np.random.randint(1000), size=10)\n",
    "print(sorted(array))\n",
    "#print(array,\"\\n\",array.shape)"
   ]
  },
  {
   "cell_type": "markdown",
   "metadata": {},
   "source": [
    "## Question 4 :- Write a Python program to generate five random numbers from the normal distribution.\n",
    "#### [Hint: use np.random.normal] "
   ]
  },
  {
   "cell_type": "code",
   "execution_count": 63,
   "metadata": {},
   "outputs": [
    {
     "name": "stdout",
     "output_type": "stream",
     "text": [
      "[-0.05240866  0.0112935  -0.00222529  0.0961996   0.00301755]\n"
     ]
    }
   ],
   "source": [
    "import numpy as np\n",
    "\n",
    "randInt=np.random.normal(0,0.1,(5))\n",
    "print(randInt)"
   ]
  },
  {
   "cell_type": "markdown",
   "metadata": {},
   "source": [
    "## Question 5 :-\n",
    "### Write a numpy program program to add and subtract two random matrices. The size of the matrix will a user input. All the matrix element should be a positive integer value. Suppose 'A' and 'B' are two matrix. All the value of 'A' matrix cannot be greater than 10 and values of 'B' matrix cannot be greater than 20. "
   ]
  },
  {
   "cell_type": "code",
   "execution_count": 79,
   "metadata": {},
   "outputs": [
    {
     "name": "stdout",
     "output_type": "stream",
     "text": [
      "Enter the no of raws in matrix : \n",
      "3\n",
      "Enter the no of Column's  in matrix : \n",
      "3\n",
      "[[8 1 5]\n",
      " [1 4 2]\n",
      " [2 2 8]]\n",
      "[[13  4  3]\n",
      " [ 6 10 13]\n",
      " [14 19  2]] \n",
      " \n",
      " [[21  5  8]\n",
      " [ 7 14 15]\n",
      " [16 21 10]] \n",
      " \n",
      " [[ -5  -3   2]\n",
      " [ -5  -6 -11]\n",
      " [-12 -17   6]]\n"
     ]
    }
   ],
   "source": [
    "Ar=int(input(\"Enter the no of raws in matrix : \\n\"))\n",
    "Ac=int(input(\"Enter the no of Column's  in matrix : \\n\"))\n",
    "\n",
    "\n",
    "A=np.random.randint(0,10,(Ar*Ac)).reshape(Ar,Ac)\n",
    "\n",
    "B=np.random.randint(0,20,(Ar*Ac)).reshape(Ar,Ac)\n",
    "\n",
    "Sum=A+B\n",
    "Diff=A-B\n",
    "print(A)\n",
    "print(B,\"\\n \\n\",Sum,\"\\n \\n\",Diff)"
   ]
  },
  {
   "cell_type": "markdown",
   "metadata": {},
   "source": [
    "## Question 6 :-\n",
    "### Write a numpy program program to multiply two random matrices. The size of the matrices will a user input. All the matrix element should be a positive integer value. Suppose 'A' and 'B' are two matrix. All the value of 'A', 'B' matrices cannot be greater than 10.  "
   ]
  },
  {
   "cell_type": "code",
   "execution_count": 7,
   "metadata": {},
   "outputs": [
    {
     "name": "stdout",
     "output_type": "stream",
     "text": [
      "Enter the no of Sizes of matrces (Seperated by a space)x : \n",
      "1 2 2 3\n",
      "A \n",
      " [[1 7]] \n",
      "\n",
      " B \n",
      " [[7 1 9]\n",
      " [5 6 4]] \n",
      "\n",
      " [[42 43 37]]\n"
     ]
    }
   ],
   "source": [
    "import numpy as np  #Numpy is imported as np\n",
    "\n",
    "Ar,Ac,Br,Bc=map(int,input(\"Enter the no of Sizes of matrces (Seperated by a space)x : \\n\").split())\n",
    "\n",
    "#Ar,Ac are the raw and column of matrix A simillarly Br and Bc are raw and column of matrix B \n",
    "\n",
    "A=np.random.randint(0,10,(Ar*Ac)).reshape(Ar,Ac) #Creating the matrix of given size with the random elements ie below 10\n",
    "B=np.random.randint(0,10,(Br*Bc)).reshape(Br,Bc)  #Creating the matrix of given size with the random elements ie below 10\n",
    "\n",
    "mulAb= np.matmul(A,B)            #matrix multiplication in numpy\n",
    "\n",
    "print(\"A \\n\",A,\"\\n\\n\",\"B \\n\",B,\"\\n\\n\",mulAb) #printing the result in the prescrirbed format"
   ]
  },
  {
   "cell_type": "markdown",
   "metadata": {},
   "source": [
    "# Question 7 :-\n",
    "### Write a python program 4.py to take nXm matrix as a user input. 'n' and 'm' are command line argument which are separated by a space.\n",
    "### Where n >= 3 and 0>=m<=7. If this condition is false, ask the user to enter the 'n' and 'm' again. Create a zero matrix with same dimension and convert all columns in the matrix into a fibonacci series.\n",
    "### For ith column, the first element should be the sum of i+(i-1) value. Print this matrix on the terminal. ?"
   ]
  },
  {
   "cell_type": "code",
   "execution_count": 18,
   "metadata": {},
   "outputs": [
    {
     "name": "stdout",
     "output_type": "stream",
     "text": [
      "Enter the N and M of the NxM matrix : \n",
      "5 6\n",
      "[[ 1.  3.  5.  7.  9. 11.]\n",
      " [ 0.  1.  1.  2.  3.  5.]\n",
      " [ 0.  1.  1.  2.  3.  5.]\n",
      " [ 0.  1.  1.  2.  3.  5.]\n",
      " [ 0.  1.  1.  2.  3.  5.]]\n"
     ]
    }
   ],
   "source": [
    "import numpy as np\n",
    "\n",
    "def fibo(n): \n",
    "    a=0\n",
    "    b=1\n",
    "    fib=np.array([a,b])\n",
    "    if(n<0): \n",
    "        print(\"Incorrect input\") \n",
    "    elif (n==0): \n",
    "        return a \n",
    "    elif (n==1): \n",
    "        return b \n",
    "    else: \n",
    "        for i in range(2,n): \n",
    "            c=a+b\n",
    "            #print(c)\n",
    "            a=b \n",
    "            b=c \n",
    "            fib=np.append(fib,c)\n",
    "        return fib \n",
    "\n",
    "while True:\n",
    "    n,m=map(int,input(\"Enter the N and M of the NxM matrix : \\n\").split())\n",
    "    if (not(n>=3 and (0<m<=7))):\n",
    "        continue\n",
    "    else:\n",
    "        matA=np.zeros((n,m))\n",
    "        \n",
    "        for i in range(m):\n",
    "            i+=1\n",
    "            matA[0,i-1:i]=i+(i-1)\n",
    "        for i in range(1,n):\n",
    "            matA[i:,:]=fibo(m)\n",
    "        print(matA)\n",
    "        break"
   ]
  },
  {
   "cell_type": "code",
   "execution_count": null,
   "metadata": {},
   "outputs": [],
   "source": []
  }
 ],
 "metadata": {
  "kernelspec": {
   "display_name": "Python 3",
   "language": "python",
   "name": "python3"
  },
  "language_info": {
   "codemirror_mode": {
    "name": "ipython",
    "version": 3
   },
   "file_extension": ".py",
   "mimetype": "text/x-python",
   "name": "python",
   "nbconvert_exporter": "python",
   "pygments_lexer": "ipython3",
   "version": "3.7.4"
  }
 },
 "nbformat": 4,
 "nbformat_minor": 2
}
